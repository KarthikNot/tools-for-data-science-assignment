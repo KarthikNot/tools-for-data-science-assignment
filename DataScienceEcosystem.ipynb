{
 "cells": [
  {
   "cell_type": "markdown",
   "id": "015e8d87",
   "metadata": {},
   "source": [
    "# Data Science Tools"
   ]
  },
  {
   "cell_type": "markdown",
   "id": "9a25291c",
   "metadata": {},
   "source": [
    "In this notebook, Data Science Tools and Ecosystem are summarized."
   ]
  },
  {
   "cell_type": "markdown",
   "id": "0f37f69e",
   "metadata": {},
   "source": [
    "## Objectives:\n",
    "- List of Popular languages used in Data Science.\n",
    "- Tools for Data Science\n",
    "- Model Asset Exchange\n",
    "- Jupyter Architecture\n",
    "- Data Visualization in R\n",
    "- Version Control, Git and Github"
   ]
  },
  {
   "cell_type": "markdown",
   "id": "6c2ce5ad",
   "metadata": {},
   "source": [
    "Some of the popular languages that Data Scientists use are:\n",
    "1. R\n",
    "2. Python\n",
    "3. SQL\n",
    "4. Scala"
   ]
  },
  {
   "cell_type": "markdown",
   "id": "4fa44d51",
   "metadata": {},
   "source": [
    "Some of the commonly used libraries used by Data Scientists include:\n",
    "1. Scikit-Learn\n",
    "2. Plotly\n",
    "3. ggplot\n",
    "4. Matplotlib\n",
    "5. Seaborn\n",
    "6. Pandas"
   ]
  },
  {
   "cell_type": "markdown",
   "id": "f755a579",
   "metadata": {},
   "source": [
    "| Data Science Tools |\n",
    "| ------------------ |\n",
    "| Jupyter |\n",
    "| Apazhe Zeppeline |\n",
    "| RStudio |"
   ]
  },
  {
   "cell_type": "markdown",
   "id": "cc2ab3b2",
   "metadata": {},
   "source": [
    "### Below are a few examples of evaluating arithmetic expressions in Python.\n",
    "- a + b (Adding)\n",
    "- a - b (Subtracting)\n",
    "- a * b (Multiplying)\n",
    "- a / b (Dividing)"
   ]
  },
  {
   "cell_type": "code",
   "execution_count": 1,
   "id": "c01979ff",
   "metadata": {},
   "outputs": [
    {
     "data": {
      "text/plain": [
       "17"
      ]
     },
     "execution_count": 1,
     "metadata": {},
     "output_type": "execute_result"
    }
   ],
   "source": [
    "# This a simple arithmetic expression to mutiply then add integers\n",
    "(3*4)+5"
   ]
  },
  {
   "cell_type": "code",
   "execution_count": 2,
   "id": "7ac37f49",
   "metadata": {},
   "outputs": [
    {
     "data": {
      "text/plain": [
       "3.3333333333333335"
      ]
     },
     "execution_count": 2,
     "metadata": {},
     "output_type": "execute_result"
    }
   ],
   "source": [
    "# This will convert 200 minutes to hours by diving by 60\n",
    "(200 / 60)"
   ]
  },
  {
   "cell_type": "markdown",
   "id": "37150e97",
   "metadata": {},
   "source": [
    "## Author\n",
    "Karthikeyan Anumalla"
   ]
  },
  {
   "cell_type": "code",
   "execution_count": null,
   "id": "afe0065b",
   "metadata": {},
   "outputs": [],
   "source": []
  }
 ],
 "metadata": {
  "kernelspec": {
   "display_name": "Python 3 (ipykernel)",
   "language": "python",
   "name": "python3"
  },
  "language_info": {
   "codemirror_mode": {
    "name": "ipython",
    "version": 3
   },
   "file_extension": ".py",
   "mimetype": "text/x-python",
   "name": "python",
   "nbconvert_exporter": "python",
   "pygments_lexer": "ipython3",
   "version": "3.10.10"
  }
 },
 "nbformat": 4,
 "nbformat_minor": 5
}
